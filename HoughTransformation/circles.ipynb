{
 "cells": [
  {
   "cell_type": "code",
   "execution_count": 18,
   "metadata": {},
   "outputs": [],
   "source": [
    "import cv2\n",
    "import numpy as np\n",
    "\n",
    "#画像からエッジを検出する\n",
    "def canny(image):\n",
    "    gray = cv2.cvtColor(image, cv2.COLOR_RGB2GRAY)\n",
    "    blur = cv2.GaussianBlur(gray, (5, 5), 0)\n",
    "    canny = cv2.Canny(blur, 50, 150)\n",
    "    return canny\n",
    "\n",
    "cap = cv2.VideoCapture(0)\n",
    "\n",
    "width = int(cap.get(cv2.CAP_PROP_FRAME_WIDTH))\n",
    "height = int(cap.get(cv2.CAP_PROP_FRAME_HEIGHT))\n",
    "\n",
    "while True:\n",
    "    ret, frame = cap.read()\n",
    "    if ret:\n",
    "        #画像の左右を自分から見た場合と同じようにする \n",
    "        frame= cv2.flip(frame, 1)\n",
    "        gray = cv2.cvtColor(frame, cv2.COLOR_BGR2RGB)\n",
    "        frame_blur = cv2.medianBlur(gray, 5)\n",
    "        canny_frame = canny(frame_blur)\n",
    "        # Detect circles using the Hough Circle Transform\n",
    "        # Parameters:\n",
    "        # - cv2.HOUGH_GRADIENT: Detection method\n",
    "        # - 1: Resolution of the accumulator\n",
    "        # - img.shape[0] / 4: Minimum distance between detected circles (computed based on image height)\n",
    "        # - param1=200: Gradient value for edge detection\n",
    "        # - param2=10: Threshold for circle center detection\n",
    "        # - minRadius=15: Minimum circle radius\n",
    "        # - maxRadius=80: Maximum circle radius\n",
    "        circles = cv2.HoughCircles(canny_frame, cv2.HOUGH_GRADIENT, 1, frame.shape[0] / 4, param1=200, param2=20, minRadius=15, maxRadius=60)\n",
    "        \n",
    "        if circles is not None:  # If circles are detected\n",
    "            circles = np.uint16(np.around(circles))  # Round the floating-point values and store them in the same variable\n",
    "\n",
    "            for i in circles[0, :]:  # Iterate through detected circles\n",
    "                # Extract circle center (i[0], i[1]) and radius (i[2])\n",
    "                cv2.circle(frame, (i[0], i[1]), i[2], (255, 0, 0), 4)  # Draw the detected circles on the image\n",
    "        \n",
    "        # Display the image with detected circles\n",
    "        cv2.imshow(\"frame\", frame)\n",
    "        \n",
    "    if cv2.waitKey(1) & 0xFF == 27:\n",
    "        break\n",
    "\n",
    "cap.release()\n",
    "cv2.destroyAllWindows()"
   ]
  },
  {
   "cell_type": "code",
   "execution_count": null,
   "metadata": {},
   "outputs": [],
   "source": []
  }
 ],
 "metadata": {
  "kernelspec": {
   "display_name": "Python 3",
   "language": "python",
   "name": "python3"
  },
  "language_info": {
   "codemirror_mode": {
    "name": "ipython",
    "version": 3
   },
   "file_extension": ".py",
   "mimetype": "text/x-python",
   "name": "python",
   "nbconvert_exporter": "python",
   "pygments_lexer": "ipython3",
   "version": "3.6.6"
  }
 },
 "nbformat": 4,
 "nbformat_minor": 2
}
